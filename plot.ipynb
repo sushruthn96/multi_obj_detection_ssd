{
 "cells": [
  {
   "cell_type": "code",
   "execution_count": 126,
   "metadata": {},
   "outputs": [],
   "source": [
    "import numpy as np\n",
    "import matplotlib.pyplot as plt"
   ]
  },
  {
   "cell_type": "code",
   "execution_count": 149,
   "metadata": {},
   "outputs": [],
   "source": [
    "a = open('sgd_bz32_train.txt','r')\n",
    "b = open('sgd_bz32_val.txt','r')\n",
    "val_list = []\n",
    "train_list = []\n",
    "count = 0\n",
    "for i in a:\n",
    "    if(count%6 ==0):\n",
    "        train_list.append([x.strip() for x in i[1:len(i)-2].split(',')])\n",
    "    count+=1\n",
    "count =0 \n",
    "for i in b:\n",
    "    if(count%2 ==0):\n",
    "        val_list.append([x.strip() for x in i[1:len(i)-2].split(',')])\n",
    "    count+=1"
   ]
  },
  {
   "cell_type": "code",
   "execution_count": 164,
   "metadata": {},
   "outputs": [
    {
     "data": {
      "image/png": "[encoded data removed]",
      "text/plain": [
       "<Figure size 432x288 with 2 Axes>"
      ]
     },
     "metadata": {
      "needs_background": "light"
     },
     "output_type": "display_data"
    }
   ],
   "source": [
    "trainarray = np.asarray(train_list)\n",
    "trainarray = trainarray.astype(float)\n",
    "valarray = np.asarray(val_list)\n",
    "valarray = valarray.astype(float)\n",
    "fig = plt.figure()\n",
    "plt.subplot(1, 2, 1)\n",
    "plt.plot(list(np.around(trainarray[:,2],2)))\n",
    "# _, (ax1, ax2) = plt.subplots(2,1)\n",
    "# fig=plt.figure(figsize=(30, 30))\n",
    "# ax1.plot(list(np.around(trainarray[:,2],2)))\n",
    "# plt.show()\n",
    "plt.subplot(1, 2, 2)\n",
    "plt.ylim(0,25)\n",
    "plt.plot(list(np.around(valarray[:,1],2)))\n",
    "plt.show()"
   ]
  },
  {
   "cell_type": "code",
   "execution_count": null,
   "metadata": {},
   "outputs": [],
   "source": []
  }
 ],
 "metadata": {
  "kernelspec": {
   "display_name": "Python 3",
   "language": "python",
   "name": "python3"
  },
  "language_info": {
   "codemirror_mode": {
    "name": "ipython",
    "version": 3
   },
   "file_extension": ".py",
   "mimetype": "text/x-python",
   "name": "python",
   "nbconvert_exporter": "python",
   "pygments_lexer": "ipython3",
   "version": "3.7.3"
  }
 },
 "nbformat": 4,
 "nbformat_minor": 2
}
